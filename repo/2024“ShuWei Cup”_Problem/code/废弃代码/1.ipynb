{
 "cells": [
  {
   "cell_type": "code",
   "execution_count": 11,
   "metadata": {},
   "outputs": [],
   "source": [
    "import pandas as pd\n",
    "import numpy as np\n",
    "from scipy.optimize import curve_fit\n",
    "import matplotlib.pyplot as plt\n"
   ]
  },
  {
   "cell_type": "code",
   "execution_count": 14,
   "metadata": {},
   "outputs": [
    {
     "ename": "KeyError",
     "evalue": "'MJD(days)'",
     "output_type": "error",
     "traceback": [
      "\u001b[1;31m---------------------------------------------------------------------------\u001b[0m",
      "\u001b[1;31mKeyError\u001b[0m                                  Traceback (most recent call last)",
      "File \u001b[1;32md:\\software\\anaconda\\Lib\\site-packages\\pandas\\core\\indexes\\base.py:3805\u001b[0m, in \u001b[0;36mIndex.get_loc\u001b[1;34m(self, key)\u001b[0m\n\u001b[0;32m   3804\u001b[0m \u001b[38;5;28;01mtry\u001b[39;00m:\n\u001b[1;32m-> 3805\u001b[0m     \u001b[38;5;28;01mreturn\u001b[39;00m \u001b[38;5;28mself\u001b[39m\u001b[38;5;241m.\u001b[39m_engine\u001b[38;5;241m.\u001b[39mget_loc(casted_key)\n\u001b[0;32m   3806\u001b[0m \u001b[38;5;28;01mexcept\u001b[39;00m \u001b[38;5;167;01mKeyError\u001b[39;00m \u001b[38;5;28;01mas\u001b[39;00m err:\n",
      "File \u001b[1;32mindex.pyx:167\u001b[0m, in \u001b[0;36mpandas._libs.index.IndexEngine.get_loc\u001b[1;34m()\u001b[0m\n",
      "File \u001b[1;32mindex.pyx:196\u001b[0m, in \u001b[0;36mpandas._libs.index.IndexEngine.get_loc\u001b[1;34m()\u001b[0m\n",
      "File \u001b[1;32mpandas\\\\_libs\\\\hashtable_class_helper.pxi:7081\u001b[0m, in \u001b[0;36mpandas._libs.hashtable.PyObjectHashTable.get_item\u001b[1;34m()\u001b[0m\n",
      "File \u001b[1;32mpandas\\\\_libs\\\\hashtable_class_helper.pxi:7089\u001b[0m, in \u001b[0;36mpandas._libs.hashtable.PyObjectHashTable.get_item\u001b[1;34m()\u001b[0m\n",
      "\u001b[1;31mKeyError\u001b[0m: 'MJD(days)'",
      "\nThe above exception was the direct cause of the following exception:\n",
      "\u001b[1;31mKeyError\u001b[0m                                  Traceback (most recent call last)",
      "Cell \u001b[1;32mIn[14], line 4\u001b[0m\n\u001b[0;32m      2\u001b[0m file_path \u001b[38;5;241m=\u001b[39m \u001b[38;5;124m'\u001b[39m\u001b[38;5;124mq1/Attachment 1.xlsx\u001b[39m\u001b[38;5;124m'\u001b[39m\n\u001b[0;32m      3\u001b[0m data \u001b[38;5;241m=\u001b[39m pd\u001b[38;5;241m.\u001b[39mread_excel(file_path)\n\u001b[1;32m----> 4\u001b[0m time \u001b[38;5;241m=\u001b[39m data[\u001b[38;5;124m'\u001b[39m\u001b[38;5;124mMJD(days)\u001b[39m\u001b[38;5;124m'\u001b[39m]  \u001b[38;5;66;03m# 使用 MJD(days) 作为时间列\u001b[39;00m\n\u001b[0;32m      5\u001b[0m observed_arrival_time \u001b[38;5;241m=\u001b[39m data[\u001b[38;5;124m'\u001b[39m\u001b[38;5;124mPT-TT（s）\u001b[39m\u001b[38;5;124m'\u001b[39m]  \u001b[38;5;66;03m# 使用 PT-TT（s） 作为观测到达时间\u001b[39;00m\n\u001b[0;32m      7\u001b[0m \u001b[38;5;66;03m# 定义红噪声模型\u001b[39;00m\n",
      "File \u001b[1;32md:\\software\\anaconda\\Lib\\site-packages\\pandas\\core\\frame.py:4102\u001b[0m, in \u001b[0;36mDataFrame.__getitem__\u001b[1;34m(self, key)\u001b[0m\n\u001b[0;32m   4100\u001b[0m \u001b[38;5;28;01mif\u001b[39;00m \u001b[38;5;28mself\u001b[39m\u001b[38;5;241m.\u001b[39mcolumns\u001b[38;5;241m.\u001b[39mnlevels \u001b[38;5;241m>\u001b[39m \u001b[38;5;241m1\u001b[39m:\n\u001b[0;32m   4101\u001b[0m     \u001b[38;5;28;01mreturn\u001b[39;00m \u001b[38;5;28mself\u001b[39m\u001b[38;5;241m.\u001b[39m_getitem_multilevel(key)\n\u001b[1;32m-> 4102\u001b[0m indexer \u001b[38;5;241m=\u001b[39m \u001b[38;5;28mself\u001b[39m\u001b[38;5;241m.\u001b[39mcolumns\u001b[38;5;241m.\u001b[39mget_loc(key)\n\u001b[0;32m   4103\u001b[0m \u001b[38;5;28;01mif\u001b[39;00m is_integer(indexer):\n\u001b[0;32m   4104\u001b[0m     indexer \u001b[38;5;241m=\u001b[39m [indexer]\n",
      "File \u001b[1;32md:\\software\\anaconda\\Lib\\site-packages\\pandas\\core\\indexes\\base.py:3812\u001b[0m, in \u001b[0;36mIndex.get_loc\u001b[1;34m(self, key)\u001b[0m\n\u001b[0;32m   3807\u001b[0m     \u001b[38;5;28;01mif\u001b[39;00m \u001b[38;5;28misinstance\u001b[39m(casted_key, \u001b[38;5;28mslice\u001b[39m) \u001b[38;5;129;01mor\u001b[39;00m (\n\u001b[0;32m   3808\u001b[0m         \u001b[38;5;28misinstance\u001b[39m(casted_key, abc\u001b[38;5;241m.\u001b[39mIterable)\n\u001b[0;32m   3809\u001b[0m         \u001b[38;5;129;01mand\u001b[39;00m \u001b[38;5;28many\u001b[39m(\u001b[38;5;28misinstance\u001b[39m(x, \u001b[38;5;28mslice\u001b[39m) \u001b[38;5;28;01mfor\u001b[39;00m x \u001b[38;5;129;01min\u001b[39;00m casted_key)\n\u001b[0;32m   3810\u001b[0m     ):\n\u001b[0;32m   3811\u001b[0m         \u001b[38;5;28;01mraise\u001b[39;00m InvalidIndexError(key)\n\u001b[1;32m-> 3812\u001b[0m     \u001b[38;5;28;01mraise\u001b[39;00m \u001b[38;5;167;01mKeyError\u001b[39;00m(key) \u001b[38;5;28;01mfrom\u001b[39;00m \u001b[38;5;21;01merr\u001b[39;00m\n\u001b[0;32m   3813\u001b[0m \u001b[38;5;28;01mexcept\u001b[39;00m \u001b[38;5;167;01mTypeError\u001b[39;00m:\n\u001b[0;32m   3814\u001b[0m     \u001b[38;5;66;03m# If we have a listlike key, _check_indexing_error will raise\u001b[39;00m\n\u001b[0;32m   3815\u001b[0m     \u001b[38;5;66;03m#  InvalidIndexError. Otherwise we fall through and re-raise\u001b[39;00m\n\u001b[0;32m   3816\u001b[0m     \u001b[38;5;66;03m#  the TypeError.\u001b[39;00m\n\u001b[0;32m   3817\u001b[0m     \u001b[38;5;28mself\u001b[39m\u001b[38;5;241m.\u001b[39m_check_indexing_error(key)\n",
      "\u001b[1;31mKeyError\u001b[0m: 'MJD(days)'"
     ]
    }
   ],
   "source": [
    "\n",
    "# 加载数据\n",
    "file_path = 'q1/Attachment 1.xlsx'\n",
    "data = pd.read_excel(file_path)\n",
    "time = data['MJD(days)']  # 使用 MJD(days) 作为时间列\n",
    "observed_arrival_time = data['PT-TT（s）']  # 使用 PT-TT（s） 作为观测到达时间\n",
    "\n",
    "# 定义红噪声模型\n",
    "def red_noise_model(t, P0, fc, q):\n",
    "    \"\"\"\n",
    "    红噪声模型函数，用于拟合脉冲星计时噪声。\n",
    "    t: 时间\n",
    "    P0: 红噪声强度\n",
    "    fc: 转角频率\n",
    "    q: 频谱指数\n",
    "    \"\"\"\n",
    "    f = np.fft.fftfreq(len(t))  # 计算频率\n",
    "    noise_spectrum = P0 / (1 + (f / fc)**2)**(q / 2)\n",
    "    return np.fft.ifft(noise_spectrum).real\n",
    "\n",
    "# 初始参数\n",
    "initial_params = [1.0, 0.1, 2.0]  # 假设的初始参数 [P0, fc, q]\n",
    "\n",
    "# 数据拟合\n",
    "try:\n",
    "    popt, pcov = curve_fit(red_noise_model, time, observed_arrival_time, p0=initial_params)\n",
    "    P0, fc, q = popt\n",
    "    print(f'拟合参数：P0={P0:.4f}, fc={fc:.4f}, q={q:.4f}')\n",
    "except Exception as e:\n",
    "    print(f\"拟合失败: {e}\")\n",
    "\n",
    "# 计算拟合结果\n",
    "fitted_values = red_noise_model(time, *popt)\n",
    "\n",
    "# 计算R²值\n",
    "ss_res = np.sum((observed_arrival_time - fitted_values) ** 2)\n",
    "ss_tot = np.sum((observed_arrival_time - np.mean(observed_arrival_time)) ** 2)\n",
    "r_squared = 1 - (ss_res / ss_tot)\n",
    "print(f'模型的R²值: {r_squared:.4f}')\n",
    "\n",
    "# 结果可视化\n",
    "plt.figure(figsize=(10, 6))\n",
    "plt.plot(time, observed_arrival_time, label='Observed Arrival Time')\n",
    "plt.plot(time, fitted_values, label='Fitted Model', linestyle='--')\n",
    "plt.xlabel('Time (MJD)')\n",
    "plt.ylabel('Arrival Time Difference (PT-TT)')\n",
    "plt.title('Pulsar Timing Noise Model Fitting')\n",
    "plt.legend()\n",
    "plt.show()\n",
    "\n",
    "# 检查模型拟合度是否达到95%以上\n",
    "if r_squared >= 0.95:\n",
    "    print(\"模型拟合度达到95%以上，符合要求。\")\n",
    "else:\n",
    "    print(\"模型拟合度未达到95%，需要进一步优化模型。\")\n"
   ]
  },
  {
   "cell_type": "code",
   "execution_count": null,
   "metadata": {},
   "outputs": [],
   "source": []
  }
 ],
 "metadata": {
  "kernelspec": {
   "display_name": "base",
   "language": "python",
   "name": "python3"
  },
  "language_info": {
   "codemirror_mode": {
    "name": "ipython",
    "version": 3
   },
   "file_extension": ".py",
   "mimetype": "text/x-python",
   "name": "python",
   "nbconvert_exporter": "python",
   "pygments_lexer": "ipython3",
   "version": "3.12.4"
  }
 },
 "nbformat": 4,
 "nbformat_minor": 2
}
